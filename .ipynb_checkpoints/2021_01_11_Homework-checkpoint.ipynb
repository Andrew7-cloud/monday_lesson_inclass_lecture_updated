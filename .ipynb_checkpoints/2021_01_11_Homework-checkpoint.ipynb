{
 "cells": [
  {
   "cell_type": "markdown",
   "metadata": {},
   "source": [
    "# Week 2 - Monday Lesson (variable assignment, loops, lists)"
   ]
  },
  {
   "cell_type": "markdown",
   "metadata": {},
   "source": [
    "## Tasks Today:\n",
    "\n",
    "1) Int & Float assignments <br>\n",
    " &nbsp;&nbsp;&nbsp;&nbsp; a) Assigning int <br>\n",
    " &nbsp;&nbsp;&nbsp;&nbsp; b) Assigning float <br>\n",
    " &nbsp;&nbsp;&nbsp;&nbsp; c) Performing Calculations on ints and floats <br>\n",
    " &nbsp;&nbsp;&nbsp;&nbsp;&nbsp;&nbsp;&nbsp;&nbsp; - Addition <br>\n",
    " &nbsp;&nbsp;&nbsp;&nbsp;&nbsp;&nbsp;&nbsp;&nbsp; - Subtraction <br>\n",
    " &nbsp;&nbsp;&nbsp;&nbsp;&nbsp;&nbsp;&nbsp;&nbsp; - Multiplication <br>\n",
    " &nbsp;&nbsp;&nbsp;&nbsp;&nbsp;&nbsp;&nbsp;&nbsp; - Division <br>\n",
    " &nbsp;&nbsp;&nbsp;&nbsp;&nbsp;&nbsp;&nbsp;&nbsp; - Floor Division <br>\n",
    " &nbsp;&nbsp;&nbsp;&nbsp;&nbsp;&nbsp;&nbsp;&nbsp; - Modulo <br>\n",
    " &nbsp;&nbsp;&nbsp;&nbsp;&nbsp;&nbsp;&nbsp;&nbsp; - Exponential <br>\n",
    "2) String Input-Output <br>\n",
    " &nbsp;&nbsp;&nbsp;&nbsp; a) String Assignment <br>\n",
    " &nbsp;&nbsp;&nbsp;&nbsp; b) print() <br>\n",
    " &nbsp;&nbsp;&nbsp;&nbsp; c) String Concatenation <br>\n",
    " &nbsp;&nbsp;&nbsp;&nbsp; d) Type Conversion <br>\n",
    " &nbsp;&nbsp;&nbsp;&nbsp; e) input() <br>\n",
    " &nbsp;&nbsp;&nbsp;&nbsp; f) format() <br>\n",
    " &nbsp;&nbsp;&nbsp;&nbsp; g) Old Way (python 2) <br>\n",
    "3) <b>In-Class Exercise #1</b> <br>\n",
    "4) If Statements <br>\n",
    " &nbsp;&nbsp;&nbsp;&nbsp; a) 'is' keyword <br>\n",
    " &nbsp;&nbsp;&nbsp;&nbsp; b) 'in' keyword <br>\n",
    " &nbsp;&nbsp;&nbsp;&nbsp; c) 'not in' keyword <br>\n",
    "5) <b>In-Class Exercise #2</b> <br>\n",
    "6) Elif Statements <br>\n",
    "7) Else Statements <br>\n",
    "8) <b>In-Class Exercise #3</b> <br>\n",
    "9) For Loops <br>\n",
    " &nbsp;&nbsp;&nbsp;&nbsp; a) Using 'in' keyword <br>\n",
    " &nbsp;&nbsp;&nbsp;&nbsp; b) Continue Statement <br>\n",
    " &nbsp;&nbsp;&nbsp;&nbsp; c) Break Statement <br>\n",
    " &nbsp;&nbsp;&nbsp;&nbsp; d) Pass Statement <br>\n",
    " &nbsp;&nbsp;&nbsp;&nbsp; e) Double For Loops <br>\n",
    "10) While Loops <br>\n",
    " &nbsp;&nbsp;&nbsp;&nbsp; a) Looping 'While True' <br>\n",
    " &nbsp;&nbsp;&nbsp;&nbsp; b) While and For Loops Used Together <br>\n",
    "11) Built-In Functions <br>\n",
    " &nbsp;&nbsp;&nbsp;&nbsp; a) range() <br>\n",
    " &nbsp;&nbsp;&nbsp;&nbsp; b) len() <br>\n",
    " &nbsp;&nbsp;&nbsp;&nbsp; c) help() <br>\n",
    " &nbsp;&nbsp;&nbsp;&nbsp; d) isinstance() <br>\n",
    " &nbsp;&nbsp;&nbsp;&nbsp; e) abs() <br>\n",
    "12) Try and Except <br>\n",
    "13) Lists <br>\n",
    " &nbsp;&nbsp;&nbsp;&nbsp; a) Declaring Lists <br>\n",
    " &nbsp;&nbsp;&nbsp;&nbsp; b) Indexing a List <br>\n",
    " &nbsp;&nbsp;&nbsp;&nbsp; c) .append() <br>\n",
    " &nbsp;&nbsp;&nbsp;&nbsp; d) .insert() <br>\n",
    " &nbsp;&nbsp;&nbsp;&nbsp; e) .pop() <br>\n",
    " &nbsp;&nbsp;&nbsp;&nbsp; f) .remove() <br>\n",
    " &nbsp;&nbsp;&nbsp;&nbsp; g) del() <br>\n",
    " &nbsp;&nbsp;&nbsp;&nbsp; h) Concatenating Two Lists <br>\n",
    " &nbsp;&nbsp;&nbsp;&nbsp; i) Lists Within Lists <br>\n",
    " &nbsp;&nbsp;&nbsp;&nbsp; j) Looping Through Lists <br>"
   ]
  },
  {
   "cell_type": "markdown",
   "metadata": {},
   "source": [
    "### Int & Float Assignments"
   ]
  },
  {
   "cell_type": "markdown",
   "metadata": {},
   "source": [
    "##### Assigning int"
   ]
  },
  {
   "cell_type": "code",
   "execution_count": 1,
   "metadata": {},
   "outputs": [
    {
     "name": "stdout",
     "output_type": "stream",
     "text": [
      "6\n"
     ]
    }
   ],
   "source": [
    "number =6\n",
    "print(number)"
   ]
  },
  {
   "cell_type": "markdown",
   "metadata": {},
   "source": [
    "##### Assinging float"
   ]
  },
  {
   "cell_type": "code",
   "execution_count": 2,
   "metadata": {},
   "outputs": [
    {
     "name": "stdout",
     "output_type": "stream",
     "text": [
      "2.3\n"
     ]
    }
   ],
   "source": [
    "number_float = 2.3\n",
    "print(number_float)\n"
   ]
  },
  {
   "cell_type": "markdown",
   "metadata": {},
   "source": [
    "#### Performing Calculations on ints and floats"
   ]
  },
  {
   "cell_type": "markdown",
   "metadata": {},
   "source": [
    "##### Addition"
   ]
  },
  {
   "cell_type": "code",
   "execution_count": 3,
   "metadata": {},
   "outputs": [
    {
     "name": "stdout",
     "output_type": "stream",
     "text": [
      "7.4\n",
      "9.4\n"
     ]
    }
   ],
   "source": [
    "# long version\n",
    "num1 = 2\n",
    "num2 = 5.4\n",
    "result= num1 + num2\n",
    "print(result)\n",
    "\n",
    "# shorter version\n",
    "result +=2\n",
    "print(result)"
   ]
  },
  {
   "cell_type": "markdown",
   "metadata": {},
   "source": [
    "##### Subtraction"
   ]
  },
  {
   "cell_type": "code",
   "execution_count": 4,
   "metadata": {},
   "outputs": [
    {
     "name": "stdout",
     "output_type": "stream",
     "text": [
      "3.4000000000000004\n",
      "2.4000000000000004\n"
     ]
    }
   ],
   "source": [
    "# Long version\n",
    "result_diff = num2 - num1\n",
    "print(result_diff)\n",
    "\n",
    "# shorter version\n",
    "result_diff-=1\n",
    "print(result_diff)\n",
    "\n"
   ]
  },
  {
   "cell_type": "markdown",
   "metadata": {},
   "source": [
    "##### Multiplication"
   ]
  },
  {
   "cell_type": "code",
   "execution_count": 5,
   "metadata": {},
   "outputs": [
    {
     "name": "stdout",
     "output_type": "stream",
     "text": [
      "10.8\n",
      "21.6\n"
     ]
    }
   ],
   "source": [
    "# long version\n",
    "result_mul=num1 * num2\n",
    "print(result_mul)\n",
    "\n",
    "result_mul *= 2\n",
    "\n",
    "print(result_mul)"
   ]
  },
  {
   "cell_type": "markdown",
   "metadata": {},
   "source": [
    "##### Division"
   ]
  },
  {
   "cell_type": "code",
   "execution_count": 6,
   "metadata": {},
   "outputs": [
    {
     "name": "stdout",
     "output_type": "stream",
     "text": [
      "2.7\n",
      "1.35\n"
     ]
    }
   ],
   "source": [
    "# long version\n",
    "result_div = num2/num1\n",
    "print(result_div)\n",
    "\n",
    "# short version\n",
    "result_div/=2\n",
    "print(result_div)\n"
   ]
  },
  {
   "cell_type": "markdown",
   "metadata": {},
   "source": [
    "##### Floor Division"
   ]
  },
  {
   "cell_type": "code",
   "execution_count": 7,
   "metadata": {},
   "outputs": [
    {
     "name": "stdout",
     "output_type": "stream",
     "text": [
      "2.0\n",
      "1.0\n"
     ]
    }
   ],
   "source": [
    "# long version\n",
    "# the // takes the floor of the quotient\n",
    "\n",
    "result_floor = num2 // num1\n",
    "print(result_floor)\n",
    "\n",
    "# shorter version\n",
    "\n",
    "result_floor //= 2\n",
    "print(result_floor)\n"
   ]
  },
  {
   "cell_type": "markdown",
   "metadata": {},
   "source": [
    "##### Modulo"
   ]
  },
  {
   "cell_type": "code",
   "execution_count": 8,
   "metadata": {},
   "outputs": [
    {
     "name": "stdout",
     "output_type": "stream",
     "text": [
      "1.4000000000000004\n",
      "1.4000000000000004\n"
     ]
    }
   ],
   "source": [
    "# module finds out if we have a remainder at all\n",
    "# long version\n",
    "result_mod = num2 % num1\n",
    "print(result_mod)\n",
    "\n",
    "\n",
    "# short version\n",
    "result_mod %= 2\n",
    "print(result_mod)\n"
   ]
  },
  {
   "cell_type": "markdown",
   "metadata": {},
   "source": [
    "##### Exponential"
   ]
  },
  {
   "cell_type": "code",
   "execution_count": 9,
   "metadata": {},
   "outputs": [
    {
     "name": "stdout",
     "output_type": "stream",
     "text": [
      "25\n",
      "625\n"
     ]
    }
   ],
   "source": [
    "# long version 5 raised to the power of 2\n",
    "square = 5 **2\n",
    "print(square)\n",
    "\n",
    "# short version\n",
    "square **=2\n",
    "print(square)"
   ]
  },
  {
   "cell_type": "markdown",
   "metadata": {},
   "source": [
    "### String Input-Output"
   ]
  },
  {
   "cell_type": "markdown",
   "metadata": {},
   "source": [
    "##### String Assignment"
   ]
  },
  {
   "cell_type": "code",
   "execution_count": 10,
   "metadata": {},
   "outputs": [
    {
     "name": "stdout",
     "output_type": "stream",
     "text": [
      "Andrew\n"
     ]
    }
   ],
   "source": [
    "name = \"Andrew\"\n",
    "print(name)"
   ]
  },
  {
   "cell_type": "markdown",
   "metadata": {},
   "source": [
    "##### print() <br>\n",
    "<p>Don't forget about end=' '</p>"
   ]
  },
  {
   "cell_type": "code",
   "execution_count": 11,
   "metadata": {},
   "outputs": [
    {
     "name": "stdout",
     "output_type": "stream",
     "text": [
      "Full Name:  Andrew\n",
      "Full Name:  AndrewWolf"
     ]
    }
   ],
   "source": [
    "print(\"Full Name: \", name)\n",
    "print(\"Full Name: \", name, end = \"Wolf\")"
   ]
  },
  {
   "cell_type": "markdown",
   "metadata": {},
   "source": [
    "##### String Concatenation"
   ]
  },
  {
   "cell_type": "code",
   "execution_count": 12,
   "metadata": {},
   "outputs": [
    {
     "name": "stdout",
     "output_type": "stream",
     "text": [
      "John Smith\n",
      "John SmithJR\n"
     ]
    }
   ],
   "source": [
    "# long version\n",
    "first_name = \"John\"\n",
    "last_name = \"Smith\"\n",
    "full_name = first_name + \" \" + last_name\n",
    "print(full_name)\n",
    "\n",
    "# short version\n",
    "full_name+= \"JR\"\n",
    "print(full_name)"
   ]
  },
  {
   "cell_type": "markdown",
   "metadata": {},
   "source": [
    "##### Type Conversion"
   ]
  },
  {
   "cell_type": "code",
   "execution_count": 13,
   "metadata": {},
   "outputs": [
    {
     "name": "stdout",
     "output_type": "stream",
     "text": [
      "64\n"
     ]
    }
   ],
   "source": [
    "# converts data types, asserting the string will be an integer\n",
    "number =\"32\"\n",
    "change_type_num = int(number) +32\n",
    "print(change_type_num)\n"
   ]
  },
  {
   "cell_type": "markdown",
   "metadata": {},
   "source": [
    "##### input()"
   ]
  },
  {
   "cell_type": "code",
   "execution_count": 14,
   "metadata": {},
   "outputs": [
    {
     "name": "stdout",
     "output_type": "stream",
     "text": [
      "What is your age?:20\n",
      "21\n"
     ]
    }
   ],
   "source": [
    "# ask the user for input\n",
    "# input always give you a string as a result, int() to integer\n",
    "age= int(input(\"What is your age?:\"))\n",
    "age=age+1\n",
    "print(age)\n"
   ]
  },
  {
   "cell_type": "markdown",
   "metadata": {},
   "source": [
    "##### format()"
   ]
  },
  {
   "cell_type": "code",
   "execution_count": 15,
   "metadata": {},
   "outputs": [
    {
     "name": "stdout",
     "output_type": "stream",
     "text": [
      "What is your age?: 20\n",
      "You are 20 and you are getting wiser!\n",
      "20 is a great time in life!!\n"
     ]
    }
   ],
   "source": [
    "age=input(\"What is your age?: \")\n",
    "name=\"Andrew\"\n",
    "# format syntax: age and name coicide with the two {} \n",
    "result_string = \"You are {} and you are getting wiser!\".format(age,name)\n",
    "print(result_string)\n",
    "\n",
    "result_again= f\"{age} is a great time in life!!\"\n",
    "print(result_again)\n"
   ]
  },
  {
   "cell_type": "markdown",
   "metadata": {},
   "source": [
    "##### Old Way (python 2)"
   ]
  },
  {
   "cell_type": "code",
   "execution_count": 16,
   "metadata": {},
   "outputs": [
    {
     "name": "stdout",
     "output_type": "stream",
     "text": [
      "How old are you?20\n"
     ]
    }
   ],
   "source": [
    "age = input(\"How old are you?\")\n",
    "result_string2=\"You are %s and you look great for your age\"%age\n"
   ]
  },
  {
   "cell_type": "markdown",
   "metadata": {},
   "source": [
    "# In-Class Exercise 1 <br>\n",
    "<p>Create a format statement that asks for color, year, make, model and prints out the results</p>"
   ]
  },
  {
   "cell_type": "code",
   "execution_count": 18,
   "metadata": {},
   "outputs": [
    {
     "name": "stdout",
     "output_type": "stream",
     "text": [
      "What is color of car?:red\n",
      "What is year of car?:1972\n",
      "What is color of car?:Dodge\n",
      "What is color of car?:Dart\n",
      "Here are the attributes to your car: colorred, year1972, makeDodge and model Dart\n"
     ]
    }
   ],
   "source": [
    "color = input(\"What is color of car?:\")\n",
    "year = input(\"What is year of car?:\")\n",
    "make = input(\"What is make of car?:\")\n",
    "model = input(\"What is model of car?:\")\n",
    "\n",
    "print(f\"Here are the attributes to your car: color is {color}, year is {year}, make is {make} and model is {model}\")\n"
   ]
  },
  {
   "cell_type": "markdown",
   "metadata": {},
   "source": [
    "### If Statements"
   ]
  },
  {
   "cell_type": "code",
   "execution_count": 20,
   "metadata": {},
   "outputs": [
    {
     "name": "stdout",
     "output_type": "stream",
     "text": [
      "Not Equal\n",
      "Num2 is greater\n"
     ]
    }
   ],
   "source": [
    "# Available operators: Greater(>), Less(<),Equal(==)\n",
    "# Greater or Equal(>=), Less or Equal (<=)\n",
    "\n",
    "# Truth Tree:\n",
    "# T && F = F\n",
    "# T && T = T\n",
    "# T || F = T\n",
    "# F || T = T\n",
    "# F || F = F\n",
    "\n",
    "num1 = 5\n",
    "num2 = 10\n",
    "if num2 == num1:\n",
    "    print(\"Equal Values\")\n",
    "else:\n",
    "    print(\"Not Equal\")\n",
    "    \n",
    "        \n",
    "# second example\n",
    "if num2>= num1:\n",
    "    print(\"Num2 is greater\")\n",
    "elif num1 <= num2:\n",
    "    print(\"num1 is less\")\n",
    "          \n",
    "    \n",
    "    "
   ]
  },
  {
   "cell_type": "markdown",
   "metadata": {},
   "source": [
    "##### 'is' keyword"
   ]
  },
  {
   "cell_type": "code",
   "execution_count": 38,
   "metadata": {
    "scrolled": true
   },
   "outputs": [
    {
     "name": "stdout",
     "output_type": "stream",
     "text": [
      "This is the exact number 55\n",
      "Yes, the same\n"
     ]
    }
   ],
   "source": [
    "# looks for object inside of other object\n",
    "num3 = 55\n",
    "if num3 is 55:\n",
    "    print(f\"This is the exact number {num3}\")\n",
    "\n",
    "if type(num3) is int:\n",
    "    print(f\"Yes, the same\")\n",
    "else:\n",
    "    print(f\"No, not the same\")\n",
    "    \n",
    "\n",
    "    "
   ]
  },
  {
   "cell_type": "markdown",
   "metadata": {},
   "source": [
    "##### 'in' keyword"
   ]
  },
  {
   "cell_type": "code",
   "execution_count": 42,
   "metadata": {},
   "outputs": [
    {
     "name": "stdout",
     "output_type": "stream",
     "text": [
      "The character who lost everything..\n"
     ]
    }
   ],
   "source": [
    "#  check if the string is in a variable- case sensitive\n",
    "character_name= \"Max Payne\"\n",
    "\n",
    "if \"Max\" in character_name:\n",
    "    print(\"The character who lost everything..\")\n",
    "else:\n",
    "    print(\"Never heard of that guy..\")"
   ]
  },
  {
   "cell_type": "markdown",
   "metadata": {},
   "source": [
    "##### 'not in' keyword'"
   ]
  },
  {
   "cell_type": "code",
   "execution_count": 46,
   "metadata": {},
   "outputs": [
    {
     "name": "stdout",
     "output_type": "stream",
     "text": [
      "A is NOT present\n"
     ]
    }
   ],
   "source": [
    "saga_char = \"Sonic\"\n",
    "\n",
    "if \"A\" not in saga_char:\n",
    "    print(\"A is NOT present\")\n"
   ]
  },
  {
   "cell_type": "markdown",
   "metadata": {},
   "source": [
    "# In-Class Exercise 2 <br>\n",
    "<p>Ask user for input, check to see if the letter 'p' is in the input</p>"
   ]
  },
  {
   "cell_type": "code",
   "execution_count": 52,
   "metadata": {},
   "outputs": [
    {
     "name": "stdout",
     "output_type": "stream",
     "text": [
      "Do you like peanuts or crackers?crackers\n",
      "It is Not included\n"
     ]
    }
   ],
   "source": [
    "response = input(\"Do you like peanuts or crackers?\")\n",
    "\n",
    "# case sensitive use .upper() or .lower()\n",
    "if \"p\" in response:\n",
    "    print(\"It is included\")\n",
    "else:\n",
    "    print(\"It is Not included\")\n"
   ]
  },
  {
   "cell_type": "markdown",
   "metadata": {},
   "source": [
    "## Using 'and'/'or' with If Statements"
   ]
  },
  {
   "cell_type": "code",
   "execution_count": 62,
   "metadata": {},
   "outputs": [
    {
     "name": "stdout",
     "output_type": "stream",
     "text": [
      "True and True\n",
      "True Or False\n"
     ]
    }
   ],
   "source": [
    "num_4 =15\n",
    "num_5=3\n",
    "num_6=10\n",
    "num_7 = 3\n",
    "\n",
    "if num_4 /5==num_5 and num_6 -7 ==num_7:\n",
    "    print(\"True and True\")\n",
    "    \n",
    "if num_4 > num_5 or num_6 == num(7):\n",
    "    print(\"True Or False\")"
   ]
  },
  {
   "cell_type": "markdown",
   "metadata": {},
   "source": [
    "### Elif Statements"
   ]
  },
  {
   "cell_type": "code",
   "execution_count": 67,
   "metadata": {},
   "outputs": [
    {
     "ename": "SyntaxError",
     "evalue": "invalid syntax (<ipython-input-67-50ecf61b7315>, line 4)",
     "output_type": "error",
     "traceback": [
      "\u001b[1;36m  File \u001b[1;32m\"<ipython-input-67-50ecf61b7315>\"\u001b[1;36m, line \u001b[1;32m4\u001b[0m\n\u001b[1;33m    elif:\u001b[0m\n\u001b[1;37m        ^\u001b[0m\n\u001b[1;31mSyntaxError\u001b[0m\u001b[1;31m:\u001b[0m invalid syntax\n"
     ]
    }
   ],
   "source": [
    "first_name =\"Max\"\n",
    "if first_name == \"Smith\":\n",
    "    print(\"The name is Smith\")\n",
    "elif:\n",
    "    first_name != 'Max':\n",
    "        print(\"The name is NOT Max\")\n",
    "else:\n",
    "    print(\"The name IS Max\")"
   ]
  },
  {
   "cell_type": "markdown",
   "metadata": {},
   "source": [
    "### Else Statements"
   ]
  },
  {
   "cell_type": "code",
   "execution_count": null,
   "metadata": {},
   "outputs": [],
   "source": [
    "# see above"
   ]
  },
  {
   "cell_type": "markdown",
   "metadata": {},
   "source": [
    "### For Loops"
   ]
  },
  {
   "cell_type": "code",
   "execution_count": 78,
   "metadata": {},
   "outputs": [
    {
     "name": "stdout",
     "output_type": "stream",
     "text": [
      "0\n",
      "1\n",
      "2\n",
      "3\n",
      "4\n",
      "5\n",
      "6\n",
      "7\n",
      "8\n",
      "9\n",
      "A\n",
      "n\n",
      "d\n",
      "r\n",
      "e\n",
      "w\n",
      " \n",
      "W\n",
      "o\n",
      "l\n",
      "f\n",
      "A\n",
      "n\n",
      "d\n",
      "r\n",
      "e\n",
      "w\n",
      " \n",
      "W\n",
      "o\n",
      "l\n",
      "f\n"
     ]
    }
   ],
   "source": [
    "# for keyword, counter, in keyword, condition\n",
    "# for i in range(10):\n",
    "# print(i))\n",
    "\n",
    "# for includes the parameters: start, stop and step\n",
    "# will automatically start at zero\n",
    "for i in range(10):\n",
    "    print(i)\n",
    "\n",
    "letters = \"Andrew Wolf\"\n",
    "\n",
    "# same outcome as below\n",
    "for letter in letters:\n",
    "    print(letter)\n",
    "  \n",
    "# same as above example    \n",
    "for letter in range(len(letters)):\n",
    "    print(letters[letter])"
   ]
  },
  {
   "cell_type": "markdown",
   "metadata": {},
   "source": [
    "##### Using 'in' keyword"
   ]
  },
  {
   "cell_type": "code",
   "execution_count": null,
   "metadata": {},
   "outputs": [],
   "source": [
    "# see above"
   ]
  },
  {
   "cell_type": "markdown",
   "metadata": {},
   "source": [
    "##### Continue Statement"
   ]
  },
  {
   "cell_type": "code",
   "execution_count": null,
   "metadata": {},
   "outputs": [],
   "source": [
    "# will continue to next iteration Frequenlty Used"
   ]
  },
  {
   "cell_type": "code",
   "execution_count": 93,
   "metadata": {},
   "outputs": [
    {
     "name": "stdout",
     "output_type": "stream",
     "text": [
      "0\n",
      "1\n",
      "2\n",
      "3\n",
      "4\n",
      "6\n",
      "7\n",
      "8\n",
      "9\n",
      "10\n",
      "11\n",
      "12\n",
      "13\n",
      "14\n",
      "15\n",
      "16\n",
      "17\n",
      "18\n",
      "19\n"
     ]
    }
   ],
   "source": [
    "for i in range(20):\n",
    "    if i == 5:\n",
    "        continue\n",
    "    print(i)"
   ]
  },
  {
   "cell_type": "markdown",
   "metadata": {},
   "source": [
    "##### Break Statement"
   ]
  },
  {
   "cell_type": "code",
   "execution_count": null,
   "metadata": {},
   "outputs": [],
   "source": [
    "# will break out of current loop"
   ]
  },
  {
   "cell_type": "code",
   "execution_count": 92,
   "metadata": {},
   "outputs": [
    {
     "name": "stdout",
     "output_type": "stream",
     "text": [
      "0\n",
      "1\n",
      "2\n",
      "3\n",
      "4\n"
     ]
    }
   ],
   "source": [
    "for i in range(20):\n",
    "    if i == 5:\n",
    "        break\n",
    "    print(i)"
   ]
  },
  {
   "cell_type": "markdown",
   "metadata": {},
   "source": [
    "##### Pass Statement"
   ]
  },
  {
   "cell_type": "code",
   "execution_count": null,
   "metadata": {},
   "outputs": [],
   "source": [
    "# mostly used as a placeholder, and will continue on same iteration"
   ]
  },
  {
   "cell_type": "code",
   "execution_count": null,
   "metadata": {},
   "outputs": [],
   "source": [
    "for i in name:\n",
    "    pass"
   ]
  },
  {
   "cell_type": "markdown",
   "metadata": {},
   "source": [
    "##### Double For Loops"
   ]
  },
  {
   "cell_type": "code",
   "execution_count": 96,
   "metadata": {},
   "outputs": [
    {
     "name": "stdout",
     "output_type": "stream",
     "text": [
      "i =  0 j =  0\n",
      "i =  0 j =  1\n",
      "i =  0 j =  2\n",
      "i =  0 j =  3\n",
      "i =  0 j =  4\n",
      "i =  1 j =  0\n",
      "i =  1 j =  1\n",
      "i =  1 j =  2\n",
      "i =  1 j =  3\n",
      "i =  1 j =  4\n",
      "i =  2 j =  0\n",
      "i =  2 j =  1\n",
      "i =  2 j =  2\n",
      "i =  2 j =  3\n",
      "i =  2 j =  4\n",
      "i =  3 j =  0\n",
      "i =  3 j =  1\n",
      "i =  3 j =  2\n",
      "i =  3 j =  3\n",
      "i =  3 j =  4\n",
      "i =  4 j =  0\n",
      "i =  4 j =  1\n",
      "i =  4 j =  2\n",
      "i =  4 j =  3\n",
      "i =  4 j =  4\n",
      "i =  0 v =  1\n",
      "i =  0 v =  2\n",
      "i =  0 v =  3\n",
      "i =  0 v =  4\n",
      "i =  0 v =  5\n",
      "i =  0 v =  6\n",
      "i =  0 v =  7\n",
      "i =  0 v =  8\n",
      "i =  0 v =  9\n",
      "i =  1 v =  1\n",
      "i =  1 v =  2\n",
      "i =  1 v =  3\n",
      "i =  1 v =  4\n",
      "i =  1 v =  5\n",
      "i =  1 v =  6\n",
      "i =  1 v =  7\n",
      "i =  1 v =  8\n",
      "i =  1 v =  9\n",
      "i =  2 v =  1\n",
      "i =  2 v =  2\n",
      "i =  2 v =  3\n",
      "i =  2 v =  4\n",
      "i =  2 v =  5\n",
      "i =  2 v =  6\n",
      "i =  2 v =  7\n",
      "i =  2 v =  8\n",
      "i =  2 v =  9\n",
      "i =  3 v =  1\n",
      "i =  3 v =  2\n",
      "i =  3 v =  3\n",
      "i =  3 v =  4\n",
      "i =  3 v =  5\n",
      "i =  3 v =  6\n",
      "i =  3 v =  7\n",
      "i =  3 v =  8\n",
      "i =  3 v =  9\n",
      "i =  4 v =  1\n",
      "i =  4 v =  2\n",
      "i =  4 v =  3\n",
      "i =  4 v =  4\n",
      "i =  4 v =  5\n",
      "i =  4 v =  6\n",
      "i =  4 v =  7\n",
      "i =  4 v =  8\n",
      "i =  4 v =  9\n",
      "i =  5 v =  1\n",
      "i =  5 v =  2\n",
      "i =  5 v =  3\n",
      "i =  5 v =  4\n",
      "i =  5 v =  5\n",
      "i =  5 v =  6\n",
      "i =  5 v =  7\n",
      "i =  5 v =  8\n",
      "i =  5 v =  9\n",
      "i =  6 v =  1\n",
      "i =  6 v =  2\n",
      "i =  6 v =  3\n",
      "i =  6 v =  4\n",
      "i =  6 v =  5\n",
      "i =  6 v =  6\n",
      "i =  6 v =  7\n",
      "i =  6 v =  8\n",
      "i =  6 v =  9\n",
      "i =  7 v =  1\n",
      "i =  7 v =  2\n",
      "i =  7 v =  3\n",
      "i =  7 v =  4\n",
      "i =  7 v =  5\n",
      "i =  7 v =  6\n",
      "i =  7 v =  7\n",
      "i =  7 v =  8\n",
      "i =  7 v =  9\n",
      "i =  8 v =  1\n",
      "i =  8 v =  2\n",
      "i =  8 v =  3\n",
      "i =  8 v =  4\n",
      "i =  8 v =  5\n",
      "i =  8 v =  6\n",
      "i =  8 v =  7\n",
      "i =  8 v =  8\n",
      "i =  8 v =  9\n",
      "i =  9 v =  1\n",
      "i =  9 v =  2\n",
      "i =  9 v =  3\n",
      "i =  9 v =  4\n",
      "i =  9 v =  5\n",
      "i =  9 v =  6\n",
      "i =  9 v =  7\n",
      "i =  9 v =  8\n",
      "i =  9 v =  9\n",
      "i =  10 v =  1\n",
      "i =  10 v =  2\n",
      "i =  10 v =  3\n",
      "i =  10 v =  4\n",
      "i =  10 v =  5\n",
      "i =  10 v =  6\n",
      "i =  10 v =  7\n",
      "i =  10 v =  8\n",
      "i =  10 v =  9\n"
     ]
    }
   ],
   "source": [
    "# example 1\n",
    "for i in range(5):\n",
    "    for j in range(5):\n",
    "        print(f\"i = \",i,\"j = \",j)\n",
    "        \n",
    "#example 2\n",
    "name = \"Andrew Wolf\"\n",
    "\n",
    "for i in range(len(name)):\n",
    "    for v in range(1,len(name) -1):\n",
    "        print(\"i = \",i,\"v = \",v)"
   ]
  },
  {
   "cell_type": "markdown",
   "metadata": {},
   "source": [
    "### While Loops"
   ]
  },
  {
   "cell_type": "code",
   "execution_count": 97,
   "metadata": {},
   "outputs": [
    {
     "name": "stdout",
     "output_type": "stream",
     "text": [
      "0\n",
      "1\n",
      "2\n",
      "3\n",
      "4\n",
      "5\n",
      "6\n",
      "7\n",
      "8\n",
      "9\n"
     ]
    }
   ],
   "source": [
    "# loops while true, counter at bottom used\n",
    "\n",
    "num =0\n",
    "while num <10:\n",
    "    print(num)\n",
    "    num+=1"
   ]
  },
  {
   "cell_type": "markdown",
   "metadata": {},
   "source": [
    "##### Looping 'While True'"
   ]
  },
  {
   "cell_type": "code",
   "execution_count": 98,
   "metadata": {},
   "outputs": [
    {
     "name": "stdout",
     "output_type": "stream",
     "text": [
      "Infinite Loop\n"
     ]
    }
   ],
   "source": [
    "game_over = False\n",
    "\n",
    "while True:\n",
    "    print(\"Infinite Loop\")\n",
    "    if game_over == False:\n",
    "        break"
   ]
  },
  {
   "cell_type": "markdown",
   "metadata": {},
   "source": [
    "##### While & For Loops Used Together"
   ]
  },
  {
   "cell_type": "code",
   "execution_count": 108,
   "metadata": {},
   "outputs": [
    {
     "name": "stdout",
     "output_type": "stream",
     "text": [
      "While Loop Iteration: 0\n",
      "For Loop Iteration 0\n",
      "For Loop Iteration 1\n",
      "While Loop Iteration: 1\n",
      "For Loop Iteration 0\n",
      "For Loop Iteration 1\n",
      "While Loop Iteration: 2\n",
      "For Loop Iteration 0\n",
      "For Loop Iteration 1\n",
      "While Loop Iteration: 3\n",
      "For Loop Iteration 0\n",
      "For Loop Iteration 1\n",
      "While Loop Iteration: 4\n",
      "For Loop Iteration 0\n",
      "For Loop Iteration 1\n"
     ]
    }
   ],
   "source": [
    "# the str function\n",
    "num = 0\n",
    "\n",
    "while num < 5:\n",
    "    print(\"While Loop Iteration: \" + str(num))\n",
    "    \n",
    "    for i in range(2):\n",
    "        print(\"For Loop Iteration\", str(i))\n",
    "\n",
    "    num+=1"
   ]
  },
  {
   "cell_type": "markdown",
   "metadata": {},
   "source": [
    "### Built-In Functions"
   ]
  },
  {
   "cell_type": "markdown",
   "metadata": {},
   "source": [
    "##### range()"
   ]
  },
  {
   "cell_type": "code",
   "execution_count": 109,
   "metadata": {},
   "outputs": [
    {
     "name": "stdout",
     "output_type": "stream",
     "text": [
      "2\n",
      "4\n",
      "6\n",
      "8\n",
      "10\n",
      "12\n",
      "14\n",
      "16\n",
      "18\n"
     ]
    }
   ],
   "source": [
    "# class range(stop)\n",
    "# class range(start, stop[, step])\n",
    "# Rather than being a function, range is actually an immutable sequence type, as documented in Ranges and Sequence Types — list, tuple, range.\n",
    "\n",
    "for i in range(2,20,2):\n",
    "    print(i)"
   ]
  },
  {
   "cell_type": "markdown",
   "metadata": {},
   "source": [
    "##### len()"
   ]
  },
  {
   "cell_type": "code",
   "execution_count": 111,
   "metadata": {},
   "outputs": [
    {
     "name": "stdout",
     "output_type": "stream",
     "text": [
      "Max\n",
      "3\n"
     ]
    }
   ],
   "source": [
    "# check length\n",
    "\n",
    "char_name = \"Max\"\n",
    "length = len(char_name)\n",
    "print(char_name)\n",
    "print(length)"
   ]
  },
  {
   "cell_type": "markdown",
   "metadata": {},
   "source": [
    "##### help()"
   ]
  },
  {
   "cell_type": "code",
   "execution_count": 112,
   "metadata": {},
   "outputs": [
    {
     "name": "stdout",
     "output_type": "stream",
     "text": [
      "Help on class range in module builtins:\n",
      "\n",
      "class range(object)\n",
      " |  range(stop) -> range object\n",
      " |  range(start, stop[, step]) -> range object\n",
      " |  \n",
      " |  Return an object that produces a sequence of integers from start (inclusive)\n",
      " |  to stop (exclusive) by step.  range(i, j) produces i, i+1, i+2, ..., j-1.\n",
      " |  start defaults to 0, and stop is omitted!  range(4) produces 0, 1, 2, 3.\n",
      " |  These are exactly the valid indices for a list of 4 elements.\n",
      " |  When step is given, it specifies the increment (or decrement).\n",
      " |  \n",
      " |  Methods defined here:\n",
      " |  \n",
      " |  __bool__(self, /)\n",
      " |      self != 0\n",
      " |  \n",
      " |  __contains__(self, key, /)\n",
      " |      Return key in self.\n",
      " |  \n",
      " |  __eq__(self, value, /)\n",
      " |      Return self==value.\n",
      " |  \n",
      " |  __ge__(self, value, /)\n",
      " |      Return self>=value.\n",
      " |  \n",
      " |  __getattribute__(self, name, /)\n",
      " |      Return getattr(self, name).\n",
      " |  \n",
      " |  __getitem__(self, key, /)\n",
      " |      Return self[key].\n",
      " |  \n",
      " |  __gt__(self, value, /)\n",
      " |      Return self>value.\n",
      " |  \n",
      " |  __hash__(self, /)\n",
      " |      Return hash(self).\n",
      " |  \n",
      " |  __iter__(self, /)\n",
      " |      Implement iter(self).\n",
      " |  \n",
      " |  __le__(self, value, /)\n",
      " |      Return self<=value.\n",
      " |  \n",
      " |  __len__(self, /)\n",
      " |      Return len(self).\n",
      " |  \n",
      " |  __lt__(self, value, /)\n",
      " |      Return self<value.\n",
      " |  \n",
      " |  __ne__(self, value, /)\n",
      " |      Return self!=value.\n",
      " |  \n",
      " |  __reduce__(...)\n",
      " |      Helper for pickle.\n",
      " |  \n",
      " |  __repr__(self, /)\n",
      " |      Return repr(self).\n",
      " |  \n",
      " |  __reversed__(...)\n",
      " |      Return a reverse iterator.\n",
      " |  \n",
      " |  count(...)\n",
      " |      rangeobject.count(value) -> integer -- return number of occurrences of value\n",
      " |  \n",
      " |  index(...)\n",
      " |      rangeobject.index(value, [start, [stop]]) -> integer -- return index of value.\n",
      " |      Raise ValueError if the value is not present.\n",
      " |  \n",
      " |  ----------------------------------------------------------------------\n",
      " |  Static methods defined here:\n",
      " |  \n",
      " |  __new__(*args, **kwargs) from builtins.type\n",
      " |      Create and return a new object.  See help(type) for accurate signature.\n",
      " |  \n",
      " |  ----------------------------------------------------------------------\n",
      " |  Data descriptors defined here:\n",
      " |  \n",
      " |  start\n",
      " |  \n",
      " |  step\n",
      " |  \n",
      " |  stop\n",
      "\n"
     ]
    }
   ],
   "source": [
    "help(range)"
   ]
  },
  {
   "cell_type": "markdown",
   "metadata": {},
   "source": [
    "##### isinstance()"
   ]
  },
  {
   "cell_type": "code",
   "execution_count": 115,
   "metadata": {},
   "outputs": [
    {
     "name": "stdout",
     "output_type": "stream",
     "text": [
      "This numbert is a float type\n"
     ]
    }
   ],
   "source": [
    "# check a variable to detemrine its object family\n",
    "# isinstance(var,type)\n",
    "\n",
    "if isinstance(4.5, float):\n",
    "    print(f\"This numbert is a float type\")\n",
    "\n"
   ]
  },
  {
   "cell_type": "markdown",
   "metadata": {},
   "source": [
    "##### abs()"
   ]
  },
  {
   "cell_type": "code",
   "execution_count": 117,
   "metadata": {},
   "outputs": [
    {
     "name": "stdout",
     "output_type": "stream",
     "text": [
      "5\n"
     ]
    }
   ],
   "source": [
    "num = -5\n",
    "new_num = (abs(num))\n",
    "print(new_num)"
   ]
  },
  {
   "cell_type": "markdown",
   "metadata": {},
   "source": [
    "### Try and Except"
   ]
  },
  {
   "cell_type": "code",
   "execution_count": 120,
   "metadata": {},
   "outputs": [
    {
     "name": "stdout",
     "output_type": "stream",
     "text": [
      "Please guess a number: 4\n",
      "Your number is 4\n"
     ]
    }
   ],
   "source": [
    "# handling errors, use case\n",
    "# and provide feedback to end user\n",
    "\n",
    "try:\n",
    "    number_test = 0\n",
    "    input_num = int(input(\"Please guess a number: \"))\n",
    "    \n",
    "    if input_num != number_test:\n",
    "        input_num = input_num + number_test\n",
    "        print(\"Your number is \" + str(input_num))\n",
    "\n",
    "except:\n",
    "    print(\"That doesn't work- Error Please ensure the number provided is an integer\")\n",
    "            \n",
    "    \n",
    "    \n"
   ]
  },
  {
   "cell_type": "markdown",
   "metadata": {},
   "source": [
    "### Lists"
   ]
  },
  {
   "cell_type": "markdown",
   "metadata": {},
   "source": [
    "##### Declaring Lists"
   ]
  },
  {
   "cell_type": "code",
   "execution_count": 121,
   "metadata": {},
   "outputs": [
    {
     "name": "stdout",
     "output_type": "stream",
     "text": [
      "['Max', 'Cyndi', 'Kathy', 'Bob', 'Nate']\n"
     ]
    }
   ],
   "source": [
    "# dynamic array\n",
    "empty_list=[]\n",
    "names = [\"Max\",\"Cyndi\", \"Kathy\",\"Bob\",\"Nate\"]\n",
    "print(names)"
   ]
  },
  {
   "cell_type": "markdown",
   "metadata": {},
   "source": [
    "##### Indexing a List"
   ]
  },
  {
   "cell_type": "code",
   "execution_count": 126,
   "metadata": {},
   "outputs": [
    {
     "name": "stdout",
     "output_type": "stream",
     "text": [
      "Max\n",
      "['Cyndi', 'Kathy', 'Bob', 'Nate']\n",
      "['Max', 'Cyndi']\n",
      "['Cyndi', 'Bob']\n",
      "['Nate', 'Bob', 'Kathy', 'Cyndi', 'Max']\n"
     ]
    }
   ],
   "source": [
    "# Indexing or Slicing\n",
    "# [start, stop, step]\n",
    "\n",
    "# single index\n",
    "print(names[0])\n",
    "\n",
    "# start at 1 to the end\n",
    "print(names[1:])\n",
    "\n",
    "# print starting at beginning of list until n is reached (n = 2 in this case)- doesn't include the last item (2)\n",
    "print(names[:2])\n",
    "\n",
    "# print starting at index 1 going up by 2 in each iteration\n",
    "print(names[1::2])\n",
    "\n",
    "# reverse a list and index.  Start at back and pront in reverse order\n",
    "# when start and stop are not included AND -1 is placed where step occurs the list will reverse\n",
    "print(names[::-1])\n"
   ]
  },
  {
   "cell_type": "markdown",
   "metadata": {},
   "source": [
    "##### .append()"
   ]
  },
  {
   "cell_type": "code",
   "execution_count": 127,
   "metadata": {},
   "outputs": [
    {
     "name": "stdout",
     "output_type": "stream",
     "text": [
      "['Max', 'Cyndi', 'Kathy', 'Bob', 'Nate', 'Andrew']\n"
     ]
    }
   ],
   "source": [
    "# appends at the end of list\n",
    "\n",
    "names.append(\"Andrew\")\n",
    "print(names)\n"
   ]
  },
  {
   "cell_type": "markdown",
   "metadata": {},
   "source": [
    "##### .insert()"
   ]
  },
  {
   "cell_type": "code",
   "execution_count": 128,
   "metadata": {},
   "outputs": [
    {
     "name": "stdout",
     "output_type": "stream",
     "text": [
      "['Max', 'Cyndi', 'Kathy', 'Gabby', 'Bob', 'Nate', 'Andrew']\n"
     ]
    }
   ],
   "source": [
    "# inserted at a position, in this case index 3\n",
    "\n",
    "names.insert(3,\"Gabby\")\n",
    "print(names)\n",
    "\n",
    "\n"
   ]
  },
  {
   "cell_type": "markdown",
   "metadata": {},
   "source": [
    "##### .pop()"
   ]
  },
  {
   "cell_type": "code",
   "execution_count": 130,
   "metadata": {},
   "outputs": [
    {
     "name": "stdout",
     "output_type": "stream",
     "text": [
      "['Max', 'Cyndi', 'Kathy', 'Gabby', 'Bob', 'Nate']\n",
      "Nate\n",
      "['Max', 'Cyndi', 'Kathy', 'Gabby', 'Bob']\n"
     ]
    }
   ],
   "source": [
    "#  pops off the top or from the last item of a list\n",
    "\n",
    "print(names)\n",
    "print(names.pop())\n",
    "print(names)\n",
    "\n"
   ]
  },
  {
   "cell_type": "markdown",
   "metadata": {},
   "source": [
    "\n",
    "##### .remove()"
   ]
  },
  {
   "cell_type": "code",
   "execution_count": 136,
   "metadata": {},
   "outputs": [
    {
     "name": "stdout",
     "output_type": "stream",
     "text": [
      "['Max', 'Cyndi', 'Kathy', 'Gabby', 'Bob', 'bob', 'Bob', 'Bob']\n",
      "['Max', 'Cyndi', 'Kathy', 'Gabby', 'bob']\n"
     ]
    }
   ],
   "source": [
    "names.append(\"Bob\")\n",
    "print(names)\n",
    "\n",
    "# remove all insatnces of Bob\n",
    "while 'Bob' in names:\n",
    "    names.remove('Bob')\n",
    "print(names)"
   ]
  },
  {
   "cell_type": "markdown",
   "metadata": {},
   "source": [
    "##### del()"
   ]
  },
  {
   "cell_type": "code",
   "execution_count": 137,
   "metadata": {},
   "outputs": [
    {
     "name": "stdout",
     "output_type": "stream",
     "text": [
      "['Max', 'Cyndi', 'Kathy', 'Gabby']\n"
     ]
    }
   ],
   "source": [
    "# function\n",
    "del(names[-1])\n",
    "print(names)"
   ]
  },
  {
   "cell_type": "markdown",
   "metadata": {},
   "source": [
    "##### Concatenating Two Lists"
   ]
  },
  {
   "cell_type": "code",
   "execution_count": 138,
   "metadata": {},
   "outputs": [
    {
     "name": "stdout",
     "output_type": "stream",
     "text": [
      "[0, 1, 2, 3, 4, 5]\n"
     ]
    }
   ],
   "source": [
    "list1 = [0,1,2]\n",
    "list2 = [3,4,5]\n",
    "\n",
    "large_list = list1 + list2\n",
    "print(large_list)"
   ]
  },
  {
   "cell_type": "markdown",
   "metadata": {},
   "source": [
    "##### Lists Within Lists"
   ]
  },
  {
   "cell_type": "code",
   "execution_count": 145,
   "metadata": {},
   "outputs": [
    {
     "name": "stdout",
     "output_type": "stream",
     "text": [
      "['Max', 'Sam', 'Josh', ['Sally', 'Sue', 'Steph']]\n",
      "Sue\n"
     ]
    }
   ],
   "source": [
    "names = [\"Max\",\"Sam\",\"Josh\",['Sally', 'Sue', 'Steph']]\n",
    "print(names)\n",
    "print(names[3][1])\n",
    "\n",
    "\n",
    "\n",
    "    \n",
    "    \n",
    "    \n"
   ]
  },
  {
   "cell_type": "markdown",
   "metadata": {},
   "source": [
    "##### Looping Through Lists"
   ]
  },
  {
   "cell_type": "code",
   "execution_count": 160,
   "metadata": {},
   "outputs": [
    {
     "name": "stdout",
     "output_type": "stream",
     "text": [
      "Max\n",
      "Sam\n",
      "Josh\n",
      "['Sally', 'Sue', 'Steph']\n",
      "Max\n",
      "Sam\n",
      "Josh\n",
      "['Sally', 'Sue', 'Steph']\n",
      "Max\n",
      "Sam\n",
      "Josh\n",
      "Sally\n",
      "Sue\n",
      "Steph\n"
     ]
    }
   ],
   "source": [
    "# For loop (by index) \n",
    "names = [\"Max\",\"Sam\",\"Josh\",['Sally', 'Sue', 'Steph']]\n",
    "\n",
    "# Dont' use Andy\n",
    "for i in range(len(names)):\n",
    "               print(names[i])\n",
    "# Use        \n",
    "for i in names:\n",
    "    print(i)\n",
    "\n",
    "# Review               \n",
    "for i in range(len(names)):\n",
    "    if i != 3:\n",
    "        print(names[i])\n",
    "    if i == 3:\n",
    "        for j in range(len(names[i])):\n",
    "            print(names[i][j])\n",
    "            \n",
    "               "
   ]
  },
  {
   "cell_type": "markdown",
   "metadata": {},
   "source": [
    "## Exercise #1 <br>\n",
    "<p>Cube Number Test... Print out all cubed numbers up to the total value 1000. Meaning that if the cubed number is over 1000 break the loop.</p>"
   ]
  },
  {
   "cell_type": "code",
   "execution_count": 159,
   "metadata": {},
   "outputs": [
    {
     "name": "stdout",
     "output_type": "stream",
     "text": [
      "0\n",
      "1\n",
      "8\n",
      "27\n",
      "64\n",
      "125\n",
      "216\n",
      "343\n",
      "512\n",
      "729\n"
     ]
    }
   ],
   "source": [
    "\n",
    "\n",
    "for i in range(10):\n",
    "    i_product =i**3\n",
    "    if i_product >1000:\n",
    "        break\n",
    "    \n",
    "    print(i_product)"
   ]
  },
  {
   "cell_type": "markdown",
   "metadata": {},
   "source": [
    "## Exercise #2 <br>\n",
    "<p>Get first prime numbers up to 100</p>"
   ]
  },
  {
   "cell_type": "code",
   "execution_count": 188,
   "metadata": {},
   "outputs": [
    {
     "name": "stdout",
     "output_type": "stream",
     "text": [
      "The following are prime numbers: [2, 5, 7, 11, 13, 17, 19, 23, 25, 29, 31, 35, 37, 41, 43, 47, 49, 53, 55, 59, 61, 65, 67, 71, 73, 77, 79, 83, 85, 89, 91, 95, 97]\n",
      "The following are non prime numbers: [0, 1, 3, 4, 6, 8, 9, 10, 12, 14, 15, 16, 18, 20, 21, 22, 24, 26, 27, 28, 30, 32, 33, 34, 36, 38, 39, 40, 42, 44, 45, 46, 48, 50, 51, 52, 54, 56, 57, 58, 60, 62, 63, 64, 66, 68, 69, 70, 72, 74, 75, 76, 78, 80, 81, 82, 84, 86, 87, 88, 90, 92, 93, 94, 96, 98, 99]\n"
     ]
    }
   ],
   "source": [
    "# HINT::\n",
    "# An else after an if runs if the if didn’t\n",
    "# An else after a for runs if the for didn’t break\n",
    "import math\n",
    "\n",
    "num = 100\n",
    "prime_numbers =[]\n",
    "non_prime_numbers=[]\n",
    "\n",
    "# prime numbers begin with 2, exclude beginning with 1\n",
    "for i in range(num):\n",
    "    if i < 2:\n",
    "        non_prime_numbers.append(i)\n",
    "    \n",
    "    elif i == 2:\n",
    "        prime_numbers.append(i)\n",
    "    \n",
    "#(condition 1, even numbers excluded)\n",
    "    elif i % 2 == 0:\n",
    "        non_prime_numbers.append(i)\n",
    "        \n",
    "    elif i % 3 == 0:\n",
    "        non_prime_numbers.append(i)\n",
    "     \n",
    "    else:\n",
    "        prime_numbers.append(i)\n",
    "        \n",
    "        \n",
    "print(f\"The following are prime numbers: {prime_numbers}\")\n",
    "\n",
    "# Extra credit?\n",
    "print(f\"The following are non prime numbers: {non_prime_numbers}\")\n",
    "        \n",
    "    \n",
    "    \n"
   ]
  },
  {
   "cell_type": "markdown",
   "metadata": {},
   "source": [
    "# Exercise 3 <br>\n",
    "<p>Take in a users input for their age, if they are younger than 18 print kids, if they're 18 to 65 print adults, else print seniors</p>"
   ]
  },
  {
   "cell_type": "code",
   "execution_count": 156,
   "metadata": {},
   "outputs": [
    {
     "name": "stdout",
     "output_type": "stream",
     "text": [
      "What is your age?: 10\n",
      "kids\n"
     ]
    }
   ],
   "source": [
    "resulting_age =int(input(\"What is your age?: \"))\n",
    "\n",
    "if resulting_age < 18:\n",
    "    print(\"kids\")\n",
    "\n",
    "elif resulting_age >= 18 and resulting_age <=65:\n",
    "    print(\"adults\")\n",
    "    \n",
    "else:\n",
    "    print(\"seniors\")\n",
    "        "
   ]
  }
 ],
 "metadata": {
  "kernelspec": {
   "display_name": "Python 3",
   "language": "python",
   "name": "python3"
  },
  "language_info": {
   "codemirror_mode": {
    "name": "ipython",
    "version": 3
   },
   "file_extension": ".py",
   "mimetype": "text/x-python",
   "name": "python",
   "nbconvert_exporter": "python",
   "pygments_lexer": "ipython3",
   "version": "3.7.1"
  }
 },
 "nbformat": 4,
 "nbformat_minor": 2
}
